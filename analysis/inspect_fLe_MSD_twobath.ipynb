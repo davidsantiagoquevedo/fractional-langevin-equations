{
 "cells": [
  {
   "cell_type": "markdown",
   "metadata": {},
   "source": [
    "## Case 1:\n",
    "\n",
    "Time glass: $C = 0$, $\\theta_H = 0$\n",
    "\n",
    "* Order of the dervative: $\\beta \\in [0.05, 0.1]$. \n",
    "* Hurst: $\\beta = 2 - 2H$, $H \\in [0.95, 0.975]$\n",
    "\n",
    "## Case 2\n",
    "\n",
    "Lutz: $C = 0$, $\\theta_{1/2} = 0$\n",
    "\n",
    "* Oscilations: $\\beta \\in [0, 0.1]$\n",
    "* Hurst: $H \\in [0.95, 1)$\n",
    "\n",
    "## Case 3 \n",
    "\n",
    "oBm + coloured noise: $\\eta = 0$, $\\theta_{1/2} = 0$\n",
    "\n",
    "* Entire regime: $H \\in [0, 1]$\n",
    "\n",
    "## Case 4\n",
    "\n",
    "$C = 0$, superposition of both terms\n",
    "\n",
    "### Case 5\n",
    "\n",
    "$C \\neq 0$, 3 regimes?"
   ]
  },
  {
   "cell_type": "markdown",
   "metadata": {},
   "source": []
  }
 ],
 "metadata": {
  "language_info": {
   "name": "python"
  },
  "orig_nbformat": 4
 },
 "nbformat": 4,
 "nbformat_minor": 2
}
